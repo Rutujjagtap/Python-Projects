{
 "cells": [
  {
   "cell_type": "markdown",
   "id": "22689cc6",
   "metadata": {},
   "source": [
    "# FLAMES GAME - TESTING YOU RELATIONSHIP"
   ]
  },
  {
   "cell_type": "markdown",
   "id": "27b9001c",
   "metadata": {},
   "source": [
    "**AUTHOR AND DEVELOPER :** Rutuj Jagtap\n",
    "\n",
    "**DESCRIPTION :**  \n",
    "**FLAMES** is a popular game that predicts the relationship between two individuals based on their names. The acronym **\"FLAMES\"** stands for **Friendship, Love, Affection, Marriage, Enmity, and Siblings**. The game is often played for fun and entertainment, particularly among young people.\n",
    "\n",
    "Here's how the FLAMES game typically works:\n",
    "\n",
    "**Input Names:** The game starts by taking the names of the two individuals whose relationship is to be predicted. Each individual's name is typically represented as a string of characters.\n",
    "\n",
    "**Remove Common Letters:** Common letters (including duplicates) between the two names are eliminated. This step ensures that each letter is counted only once in the calculation.\n",
    "\n",
    "**Count Remaining Letters:** After removing common letters, the remaining letters in both names are counted.\n",
    "\n",
    "**Calculate FLAMES:** The total count of the remaining letters is then used to determine the relationship between the two individuals. The count is matched with the letters in the word \"FLAMES\". Each letter in \"FLAMES\" represents a relationship category:\n",
    "\n",
    "F: Friendship\n",
    "L: Love\n",
    "A: Affection\n",
    "M: Marriage\n",
    "E: Enmity\n",
    "S: Siblings\n",
    "\n",
    "if the count is greater than the number of letters in Flames then it is cycled again from the first letter of FLAMES.\n",
    "\n",
    "**Result:** The letter at which the count ends corresponds to the relationship category, indicating the type of relationship between the two individuals.\n",
    "\n",
    "For example, if the count results in the letter \"M\", it suggests that the relationship between the individuals could lead to marriage. If the count results in the letter \"F\", it indicates a friendly relationship. \n",
    "\n",
    "Feel free to run the code and test your relationships!!!"
   ]
  },
  {
   "cell_type": "code",
   "execution_count": 6,
   "id": "df18a786",
   "metadata": {},
   "outputs": [
    {
     "name": "stdout",
     "output_type": "stream",
     "text": [
      "Enter your name :\n",
      "Virat\n",
      " \n",
      "Enter your Crush's name : \n",
      "Anushka\n",
      "------------------------------------\n",
      "Your relationship is of Marriage\n",
      "------------------------------------\n"
     ]
    }
   ],
   "source": [
    "#Taking nmames of individuals whose relationship is to be defined\n",
    "\n",
    "name_1 = input(\"Enter your name :\\n\")           #----->Asking user to enter 1st name\n",
    "print(' ')\n",
    "name_2 = input(\"Enter your Crush's name : \\n\")  #----->Asking user to enter 2nd name\n",
    "\n",
    "\n",
    "name_1 = name_1.lower()  #----->Converting all characters to lower case as python is case sensitive\n",
    "name_2 = name_2.lower()\n",
    "\n",
    "\n",
    "list_1 = []   #----->Creating an empty list to store all characters of string name_1\n",
    "list_2 = []   #----->Creating an empty list to store distinct characters of string name_2\n",
    "\n",
    "\n",
    "for i in range(0,len(name_1)):  #----->for loop to insert all characters of string name_1\n",
    "    list_1.append(name_1[i])\n",
    "\n",
    "    \n",
    "for i in range(0,len(name_2)):   #----->for loop to insert only distinct characters from string name_2\n",
    "    if name_2[i] not in list_1:  #----->If a character is not present in list_1 it is added in list_2\n",
    "        list_2.append(name_2[i])\n",
    "    else:                        #----->if a character is present in list_1 it is removed from list-1 and not added to list_2\n",
    "        list_1.pop(list_1.index(name_2[i]))\n",
    "\n",
    "        \n",
    "count = int(len(list_1))+int(len(list_2))  #----->Counting the total num of characters in both lists\n",
    "\n",
    "\n",
    "#Determining Relationship\n",
    "\n",
    "flames = ['Friends','Lovers','Affectionate','Marriage','Enemies','Siblings']   #----->FLAMES list\n",
    "\n",
    "b=1    #----->To keep a track of number of times the loop has run\n",
    "i=0    #----->To keep a track of the index at which the loop has ended\n",
    "\n",
    "while True:   #----->Loop will be executed till the condition is true\n",
    "    i+=1\n",
    "    b+=1\n",
    "    if i==len(flames):    #----->condition to restart the loop when it reaches the end value in list\n",
    "        i=0\n",
    "    if b==count:          #----->Stop the loop when the loop when the count ends and determine the letter\n",
    "        break\n",
    "    \n",
    "print('------------------------------------')\n",
    "print(\"Your relationship is of {}\".format(flames[i]))\n",
    "print('------------------------------------')"
   ]
  },
  {
   "cell_type": "code",
   "execution_count": null,
   "id": "b424b708",
   "metadata": {},
   "outputs": [],
   "source": []
  },
  {
   "cell_type": "code",
   "execution_count": null,
   "id": "2edecc25",
   "metadata": {},
   "outputs": [],
   "source": []
  },
  {
   "cell_type": "code",
   "execution_count": null,
   "id": "16376632",
   "metadata": {},
   "outputs": [],
   "source": []
  }
 ],
 "metadata": {
  "kernelspec": {
   "display_name": "Python 3 (ipykernel)",
   "language": "python",
   "name": "python3"
  },
  "language_info": {
   "codemirror_mode": {
    "name": "ipython",
    "version": 3
   },
   "file_extension": ".py",
   "mimetype": "text/x-python",
   "name": "python",
   "nbconvert_exporter": "python",
   "pygments_lexer": "ipython3",
   "version": "3.11.5"
  }
 },
 "nbformat": 4,
 "nbformat_minor": 5
}
