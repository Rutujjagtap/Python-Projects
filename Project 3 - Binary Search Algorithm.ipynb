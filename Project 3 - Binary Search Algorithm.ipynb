{
 "cells": [
  {
   "cell_type": "markdown",
   "id": "cf4b35cb",
   "metadata": {},
   "source": [
    "# Binary Search Algorithm implementation in Python"
   ]
  },
  {
   "cell_type": "markdown",
   "id": "a9bfb018",
   "metadata": {},
   "source": [
    "**AUTHOR AND DEVELOPER:** Rutuj Jagtap\n",
    "\n",
    "**DESCRIPTION :**\n",
    "Binary search is a search algorithm used to find the position of a target value within a sorted array or list. It works by repeatedly dividing the search interval in half until the target value is found or the interval is empty.\n",
    "\n",
    "\n",
    "**ALGORITHM OVERVIEW :**\n",
    "- Divide the search space into two halves by finding the middle index “mid”. \n",
    "- Compare the middle element of the search space with the key. \n",
    "- If the key is found at middle element, the process is terminated.\n",
    "- If the key is not found at middle element, choose which half will be used as the next search space.\n",
    "- If the key is smaller than the middle element, then the left side is used for next search.\n",
    "- If the key is larger than the middle element, then the right side is used for next search.\n",
    "- This process is continued until the key is found or the total search space is exhausted.\n",
    "\n",
    "\n",
    "**PYTHON CODE EXPLANATION :**\n",
    "- Initially a list is created by taking number of input values from the user and stored in 'lst'\n",
    "- The input list is then sorted in ascending order (if not already entered in a sorted form) for better iteration and comparison between numbers in list\n",
    "- The user is asked to enter a number whose index is to be found out and is stored as 'n'\n",
    "- Defining the index of leftside value(lv) as 0 and rightside value(rv) as (length of list - 1) which returns the index of last element\n",
    "- A while loop is executed to compare the values in the list till the condition is true\n",
    "- Once the loop is entered the index of middle value(mv) is calculated by dividing the index of leftside value and rightside value\n",
    "- If else ladder is used to compare the user entered value n with the middle value \n",
    "- If n is euqal to middle value its position is determined and the loop ends\n",
    "- if above condition is not met 2nd condition is checked i.e. whether n is less than middle value, if it is true then the right side value is replaced by middle value as the number cant be greater than middle value so the right side can be eliminated in search\n",
    "- If both the above conditions are not met 3rd condition is checked i.e. whether n is greater than the middle value, if it is true then the left side value is replaced by middle value as the number cant be less than middle value so the left side can be eliminated in search\n",
    "- The loop continues to run till the position of the number is obtained\n",
    "- If the number is not present in the list it returns \"Number is not in List\" "
   ]
  },
  {
   "cell_type": "code",
   "execution_count": 1,
   "id": "6dc4b8d3",
   "metadata": {},
   "outputs": [
    {
     "name": "stdout",
     "output_type": "stream",
     "text": [
      "Enter the numbers in list :56 47 38 29 93 74 85 39 25 18 34 24\n",
      "Enter the number whose index you want to return :\n",
      "47\n",
      "[18, 24, 25, 29, 34, 38, 39, 47, 56, 74, 85, 93]\n",
      "Element 47 is present at index 7\n"
     ]
    }
   ],
   "source": [
    "#Taking a list of numbers from user\n",
    "lst = [int(item) for item in input(\"Enter the numbers in list :\").split()]   \n",
    "\n",
    "#Sorting the list in ascending order\n",
    "lst.sort()          \n",
    "\n",
    "#Asking the user to enter the number whose position is to be determined\n",
    "n = int(input('Enter the number whose index you want to return :\\n'))   \n",
    "\n",
    "\n",
    "print(lst)    #----------------------------------------> It prints sorted list\n",
    "\n",
    "\n",
    "lv = 0         #---------------------------------------->Asssigning Index of Left Most Value\n",
    "rv = len(lst)-1  #---------------------------------------->Assigning Index of Right Most Value\n",
    "\n",
    "\n",
    "#Running a while loop for carrying out the binary search\n",
    "while True:\n",
    "    \n",
    "    mv = (lv + rv)//2   #---------------------------------------->Calculating index of Middle Value\n",
    "    \n",
    "    if n==lst[mv]:      #---------------------------------------->If value matches the position is determined\n",
    "        print(f\"Element {n} is present at index {mv}\")\n",
    "        break\n",
    "    elif n<lst[mv]:\n",
    "        rv=mv           #------------------------------------------>Eliminating values to the right of middle value\n",
    "    elif n>lst[mv]:\n",
    "        lv=mv           #------------------------------------------>Eliminating values to the left of middle value\n",
    "        \n",
    "    if n not in lst:    #------------------------------------------>Message If number not found in list \n",
    "        print(\"Number is not in List\")\n",
    "        break\n"
   ]
  },
  {
   "cell_type": "markdown",
   "id": "48c22b36",
   "metadata": {},
   "source": []
  }
 ],
 "metadata": {
  "kernelspec": {
   "display_name": "Python 3 (ipykernel)",
   "language": "python",
   "name": "python3"
  },
  "language_info": {
   "codemirror_mode": {
    "name": "ipython",
    "version": 3
   },
   "file_extension": ".py",
   "mimetype": "text/x-python",
   "name": "python",
   "nbconvert_exporter": "python",
   "pygments_lexer": "ipython3",
   "version": "3.11.5"
  }
 },
 "nbformat": 4,
 "nbformat_minor": 5
}
