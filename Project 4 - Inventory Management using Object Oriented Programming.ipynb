{
 "cells": [
  {
   "cell_type": "markdown",
   "id": "33388325",
   "metadata": {},
   "source": [
    "# INVENTORY MANAGEMENT USING OBJECT ORIENTED PROGRAMMING"
   ]
  },
  {
   "cell_type": "markdown",
   "id": "f3f3380a",
   "metadata": {},
   "source": [
    "**AUTHOR AND DEVELOPER :** Rutuj Jagtap\n",
    "\n",
    "**DESCRIPTION :**  \n",
    "This project is a simple inventory management system designed for a small business. It utilizes\n",
    "object-oriented programming (OOP) principles in Python to model products and their inventory.\n",
    "\n",
    "Here's a breakdown of the project:\n",
    "\n",
    "**Product Class:**  \n",
    "● The Product class represents an individual product in the inventory.  \n",
    "● It has attributes such as name, price, and quantity.  \n",
    "● The class provides methods to display product information (display_product_info()) and update the quantity of the product (update_quantity()).\n",
    "\n",
    "**Inventory Class:**  \n",
    "● The Inventory class manages a collection of products.  \n",
    "● It stores products in a dictionary where the product name serves as the key.  \n",
    "● The class provides methods to add products to the inventory (add_product()), remove products from the inventory (remove_product()), display the inventory (display_inventory()), and update the quantity of a product (update_quantity()).\n",
    "\n",
    "**Main Operations:**  \n",
    "● Products are created using the Product class and added to the inventory using the add_product() method of the Inventory class.   \n",
    "● The display_inventory() method is used to view all products in the inventory.  \n",
    "● Product quantities can be updated using the update_quantity() method.  \n",
    "● Products can be removed from the inventory using the remove_product() method.  \n",
    "\n",
    "**Sample Usage:**  \n",
    "● The project demonstrates adding products (like desktops, mouse and keyboards) to the inventory(electronics), updating their quantities, and removing products.  \n",
    "● It also shows how to display the inventory at various stages to track the products available.  \n",
    "\n",
    "This inventory management system serves as a foundation that can be expanded further with additional features like sales tracking, user authentication, graphical user interface (GUI), database integration for persistent storage, and more sophisticated inventory management algorithms. It illustrates the benefits of using OOP for organizing and managing complex\n",
    "systems with multiple interacting components."
   ]
  },
  {
   "cell_type": "code",
   "execution_count": 1,
   "id": "c4f72fff",
   "metadata": {},
   "outputs": [],
   "source": [
    "#Creating a class 'Product' to represent individual product in inventory\n",
    "\n",
    "class Product:            \n",
    "    def __init__(self,name,price,quantity):    #------>Defining product attributes \n",
    "        self.name = name \n",
    "        self.price = price\n",
    "        self.quantity = quantity\n",
    "        print(\"Product has been Initiated\")\n",
    "    \n",
    "    def display_product_info(self):   #--------------->Defining a function to display product info\n",
    "        print(f\"Product Name : {self.name} ; Price : {self.price} ; Quantity Available : {self.quantity}\")\n",
    "        \n",
    "    def update_quantity(self,new_quantity):  #--------------->>Defining a function to update quantity of product\n",
    "        self.quantity = new_quantity\n",
    "        print(\"Quantity has been updated\")\n",
    "        \n"
   ]
  },
  {
   "cell_type": "code",
   "execution_count": 2,
   "id": "9b1a461f",
   "metadata": {},
   "outputs": [
    {
     "name": "stdout",
     "output_type": "stream",
     "text": [
      "Inventory has been Initiated\n"
     ]
    }
   ],
   "source": [
    "#Creating a class 'Inventory' to represent individual inventory\n",
    "\n",
    "class Inventory:\n",
    "    def __init__(self):        #---------->Defining a function to create a dictionary to store products in Inventory\n",
    "        self.inventorydict = {}\n",
    "        print(\"Inventory has been Initiated\")\n",
    "        \n",
    "    def add_product(self,product):      #-------->Defining a function to add products in inventory dictionary \n",
    "        self.inventorydict[product] = product.name\n",
    "        print(self.inventorydict.items())\n",
    "        \n",
    "    def remove_product(self,product_name):   #-------->Defining a function to remove products in inventory dictionary \n",
    "        if product_name in self.inventorydict:   #----->Checking if the product is there in the inventory\n",
    "            del self.inventorydict[product_name]\n",
    "            print(f\"{product_name} has been removed from the Inventory\")\n",
    "        else:\n",
    "            print(f\"{product_name} not present in Inventory\")\n",
    "    \n",
    "    def display_inventory(self):    #-------->Defining a function to display products in inventory \n",
    "        for product,product_name in self.inventorydict.items():\n",
    "            print(\"------------------------------------------------------------------------------\")\n",
    "            product.display_product_info()\n",
    "            print(\"------------------------------------------------------------------------------\")\n",
    "        \n",
    "    def update_quantity(self,product,new_quantity): #--------------->Defining a function to update quantity of product\n",
    "        product.update_quantity(new_quantity)\n",
    "        \n",
    "        \n",
    "electronics = Inventory()    #---------------->Initiating object to the class Inventory\n",
    "    "
   ]
  },
  {
   "cell_type": "code",
   "execution_count": 3,
   "id": "103fea01",
   "metadata": {},
   "outputs": [
    {
     "name": "stdout",
     "output_type": "stream",
     "text": [
      "Product has been Initiated\n",
      "dict_items([(<__main__.Product object at 0x000001D0C012D910>, 'Mouse')])\n",
      "Product has been Initiated\n",
      "dict_items([(<__main__.Product object at 0x000001D0C012D910>, 'Mouse'), (<__main__.Product object at 0x000001D0C00A8110>, 'Keyboard')])\n",
      "Product has been Initiated\n",
      "dict_items([(<__main__.Product object at 0x000001D0C012D910>, 'Mouse'), (<__main__.Product object at 0x000001D0C00A8110>, 'Keyboard'), (<__main__.Product object at 0x000001D0C007F7D0>, 'Desktop')])\n",
      "Product has been Initiated\n",
      "dict_items([(<__main__.Product object at 0x000001D0C012D910>, 'Mouse'), (<__main__.Product object at 0x000001D0C00A8110>, 'Keyboard'), (<__main__.Product object at 0x000001D0C007F7D0>, 'Desktop'), (<__main__.Product object at 0x000001D0C007D910>, 'Speaker')])\n",
      "Product has been Initiated\n",
      "dict_items([(<__main__.Product object at 0x000001D0C012D910>, 'Mouse'), (<__main__.Product object at 0x000001D0C00A8110>, 'Keyboard'), (<__main__.Product object at 0x000001D0C007F7D0>, 'Desktop'), (<__main__.Product object at 0x000001D0C007D910>, 'Speaker'), (<__main__.Product object at 0x000001D0C007E510>, 'Webcam')])\n"
     ]
    }
   ],
   "source": [
    "#Initiating objects to the class 'Product' and adding it to the inventory dictionary\n",
    "\n",
    "Mouse = Product(\"Mouse\",750,45)\n",
    "electronics.add_product(Mouse)\n",
    "\n",
    "Keyboard = Product(\"Keyboard\",1250,28)\n",
    "electronics.add_product(Keyboard)\n",
    "\n",
    "Desktop = Product(\"Desktop\",10000,15)\n",
    "electronics.add_product(Desktop)\n",
    "\n",
    "Speaker = Product(\"Speaker\",2000,143)\n",
    "electronics.add_product(Speaker)\n",
    "\n",
    "Webcam = Product(\"Webcam\",500,123)\n",
    "electronics.add_product(Webcam)\n"
   ]
  },
  {
   "cell_type": "code",
   "execution_count": 4,
   "id": "670511ce",
   "metadata": {},
   "outputs": [
    {
     "name": "stdout",
     "output_type": "stream",
     "text": [
      "Quantity has been updated\n"
     ]
    }
   ],
   "source": [
    "electronics.update_quantity(Mouse,56)    #---------->Using update function to update quantity"
   ]
  },
  {
   "cell_type": "code",
   "execution_count": 5,
   "id": "b7ef3f33",
   "metadata": {},
   "outputs": [
    {
     "name": "stdout",
     "output_type": "stream",
     "text": [
      "Product Name : Mouse ; Price : 750 ; Quantity Available : 56\n"
     ]
    }
   ],
   "source": [
    "Mouse.display_product_info()            #----------->Using display product funtion to display info of specific product"
   ]
  },
  {
   "cell_type": "code",
   "execution_count": 6,
   "id": "3a717e9e",
   "metadata": {},
   "outputs": [
    {
     "name": "stdout",
     "output_type": "stream",
     "text": [
      "------------------------------------------------------------------------------\n",
      "Product Name : Mouse ; Price : 750 ; Quantity Available : 56\n",
      "------------------------------------------------------------------------------\n",
      "------------------------------------------------------------------------------\n",
      "Product Name : Keyboard ; Price : 1250 ; Quantity Available : 28\n",
      "------------------------------------------------------------------------------\n",
      "------------------------------------------------------------------------------\n",
      "Product Name : Desktop ; Price : 10000 ; Quantity Available : 15\n",
      "------------------------------------------------------------------------------\n",
      "------------------------------------------------------------------------------\n",
      "Product Name : Speaker ; Price : 2000 ; Quantity Available : 143\n",
      "------------------------------------------------------------------------------\n",
      "------------------------------------------------------------------------------\n",
      "Product Name : Webcam ; Price : 500 ; Quantity Available : 123\n",
      "------------------------------------------------------------------------------\n"
     ]
    }
   ],
   "source": [
    "electronics.display_inventory()        #----------->Using display inventory to display info of all products in inventory "
   ]
  }
 ],
 "metadata": {
  "kernelspec": {
   "display_name": "Python 3 (ipykernel)",
   "language": "python",
   "name": "python3"
  },
  "language_info": {
   "codemirror_mode": {
    "name": "ipython",
    "version": 3
   },
   "file_extension": ".py",
   "mimetype": "text/x-python",
   "name": "python",
   "nbconvert_exporter": "python",
   "pygments_lexer": "ipython3",
   "version": "3.11.5"
  }
 },
 "nbformat": 4,
 "nbformat_minor": 5
}
